{
 "cells": [
  {
   "cell_type": "code",
   "execution_count": 5,
   "metadata": {},
   "outputs": [
    {
     "name": "stdout",
     "output_type": "stream",
     "text": [
      "Its TRUE!\n"
     ]
    }
   ],
   "source": [
    "if 3>2:\n",
    "    print('Its TRUE!')"
   ]
  },
  {
   "cell_type": "code",
   "execution_count": 6,
   "metadata": {},
   "outputs": [
    {
     "name": "stdout",
     "output_type": "stream",
     "text": [
      "FEED ME!\n"
     ]
    }
   ],
   "source": [
    "hungry = True\n",
    "if hungry:\n",
    "    print('FEED ME!')"
   ]
  },
  {
   "cell_type": "code",
   "execution_count": 7,
   "metadata": {},
   "outputs": [
    {
     "name": "stdout",
     "output_type": "stream",
     "text": [
      "FEED ME!\n"
     ]
    }
   ],
   "source": [
    "hungry = True\n",
    "if hungry:\n",
    "    print('FEED ME!')\n",
    "else:\n",
    "    print('Im not hungry')"
   ]
  },
  {
   "cell_type": "code",
   "execution_count": 8,
   "metadata": {},
   "outputs": [
    {
     "name": "stdout",
     "output_type": "stream",
     "text": [
      "FEED ME!\n"
     ]
    }
   ],
   "source": [
    "hungry = True\n",
    "if hungry==True:\n",
    "    print('FEED ME!')\n",
    "else:\n",
    "    print('Im not hungry')"
   ]
  },
  {
   "cell_type": "code",
   "execution_count": 11,
   "metadata": {},
   "outputs": [
    {
     "name": "stdout",
     "output_type": "stream",
     "text": [
      "Money is Cool!\n"
     ]
    }
   ],
   "source": [
    "loc = 'Bank'\n",
    "if loc == 'Auto Shop':\n",
    "    print('Cars are Cool!')\n",
    "elif loc == 'Bank':\n",
    "    print(\"Money is Cool!\")\n",
    "elif loc == 'Store':\n",
    "    print(\"Welcome to the Store!\")\n",
    "else:\n",
    "    print(\"I do not now much.\")"
   ]
  },
  {
   "cell_type": "code",
   "execution_count": 12,
   "metadata": {},
   "outputs": [
    {
     "name": "stdout",
     "output_type": "stream",
     "text": [
      "Welcome to the Store!\n"
     ]
    }
   ],
   "source": [
    "loc = 'Store'\n",
    "if loc == 'Auto Shop':\n",
    "    print('Cars are Cool!')\n",
    "elif loc == 'Bank':\n",
    "    print(\"Money is Cool!\")\n",
    "elif loc == 'Store':\n",
    "    print(\"Welcome to the Store!\")\n",
    "else:\n",
    "    print(\"I do not now much.\")"
   ]
  },
  {
   "cell_type": "code",
   "execution_count": 13,
   "metadata": {},
   "outputs": [
    {
     "name": "stdout",
     "output_type": "stream",
     "text": [
      "Cars are Cool!\n"
     ]
    }
   ],
   "source": [
    "loc = 'Auto Shop'\n",
    "if loc == 'Auto Shop':\n",
    "    print('Cars are Cool!')\n",
    "elif loc == 'Bank':\n",
    "    print(\"Money is Cool!\")\n",
    "elif loc == 'Store':\n",
    "    print(\"Welcome to the Store!\")\n",
    "else:\n",
    "    print(\"I do not now much.\")"
   ]
  },
  {
   "cell_type": "code",
   "execution_count": 14,
   "metadata": {},
   "outputs": [
    {
     "name": "stdout",
     "output_type": "stream",
     "text": [
      "I do not now much.\n"
     ]
    }
   ],
   "source": [
    "loc = 'Game'\n",
    "if loc == 'Auto Shop':\n",
    "    print('Cars are Cool!')\n",
    "elif loc == 'Bank':\n",
    "    print(\"Money is Cool!\")\n",
    "elif loc == 'Store':\n",
    "    print(\"Welcome to the Store!\")\n",
    "else:\n",
    "    print(\"I do not now much.\")"
   ]
  },
  {
   "cell_type": "code",
   "execution_count": 15,
   "metadata": {},
   "outputs": [
    {
     "name": "stdout",
     "output_type": "stream",
     "text": [
      "Hello Sammy!\n"
     ]
    }
   ],
   "source": [
    "name = 'Sammy'\n",
    "if name == 'Frankie':\n",
    "    print('Hello Frankie!')\n",
    "elif name == 'Sammy':\n",
    "    print('Hello Sammy!')\n",
    "else:\n",
    "    print(\"What is your name?\")"
   ]
  },
  {
   "cell_type": "code",
   "execution_count": 16,
   "metadata": {},
   "outputs": [
    {
     "name": "stdout",
     "output_type": "stream",
     "text": [
      "Hello Frankie!\n"
     ]
    }
   ],
   "source": [
    "name = 'Frankie'\n",
    "if name == 'Frankie':\n",
    "    print('Hello Frankie!')\n",
    "elif name == 'Sammy':\n",
    "    print('Hello Sammy!')\n",
    "else:\n",
    "    print(\"What is your name?\")"
   ]
  },
  {
   "cell_type": "code",
   "execution_count": 17,
   "metadata": {},
   "outputs": [
    {
     "name": "stdout",
     "output_type": "stream",
     "text": [
      "What is your name?\n"
     ]
    }
   ],
   "source": [
    "name = 'Lee'\n",
    "if name == 'Frankie':\n",
    "    print('Hello Frankie!')\n",
    "elif name == 'Sammy':\n",
    "    print('Hello Sammy!')\n",
    "else:\n",
    "    print(\"What is your name?\")"
   ]
  },
  {
   "cell_type": "code",
   "execution_count": null,
   "metadata": {},
   "outputs": [],
   "source": []
  }
 ],
 "metadata": {
  "kernelspec": {
   "display_name": "Python 3",
   "language": "python",
   "name": "python3"
  },
  "language_info": {
   "codemirror_mode": {
    "name": "ipython",
    "version": 3
   },
   "file_extension": ".py",
   "mimetype": "text/x-python",
   "name": "python",
   "nbconvert_exporter": "python",
   "pygments_lexer": "ipython3",
   "version": "3.7.6"
  }
 },
 "nbformat": 4,
 "nbformat_minor": 4
}
